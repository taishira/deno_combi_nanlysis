{
 "cells": [
  {
   "cell_type": "code",
   "execution_count": 11,
   "metadata": {},
   "outputs": [
    {
     "name": "stdout",
     "output_type": "stream",
     "text": [
      "2007\n",
      "2402\n",
      "Counter({'2': 926, '3': 609, '4': 287, '5': 124, '6': 29, '7': 9, '9': 7, '8': 5, '11': 3, '12': 2, '13': 2, '15': 1, '10': 1, '14': 1, '74': 1})\n",
      "Counter({'2': 1027, '3': 719, '4': 372, '5': 172, '6': 48, '7': 17, '9': 11, '8': 11, '12': 3, '11': 3, '15': 3, '14': 3, '21': 3, '13': 3, '17': 2, '10': 1, '74': 1, '18': 1, '24': 1, '59': 1})\n"
     ]
    }
   ],
   "source": [
    "#組み合わせ数の多いものから、モジュール名が自動生成されていると考えられるものを除去してデータの精度・純度を高める意図\n",
    "\n",
    "import pandas as pd\n",
    "import ast\n",
    "import collections\n",
    "\n",
    "\n",
    "\n",
    "df = pd.read_csv('kakarot4.csv',encoding = \"latin-1\")\n",
    "comb_li = df['combination'].values.tolist()\n",
    "orig_li = df['original_modules'].values.tolist()\n",
    "\n",
    "for i in range(len(comb_li)):\n",
    "    comb_li[i] = ast.literal_eval(comb_li[i])\n",
    "\n",
    "\n",
    "new_comb_li = []\n",
    "    \n",
    "for i in range(len(comb_li)):\n",
    "    count = 0\n",
    "    for j in range(len(comb_li[i])):\n",
    "        if 'polkadot' in comb_li[i][j]:\n",
    "            count = 1\n",
    "    if count == 0:\n",
    "        new_comb_li.append(comb_li[i])\n",
    "        \n",
    "print(len(new_comb_li))\n",
    "print(len(comb_li))\n",
    "\n",
    "count_li = []\n",
    "count_li_2 = []\n",
    "\n",
    "\n",
    "for i in new_comb_li:\n",
    "    count_li.append(str(len(i)))\n",
    "    \n",
    "for i in comb_li:\n",
    "    count_li_2.append(str(len(i)))    \n",
    "    \n",
    "c_1 = collections.Counter(count_li)\n",
    "print(c_1)\n",
    "\n",
    "c_2 = collections.Counter(count_li_2)\n",
    "print(c_2)"
   ]
  },
  {
   "cell_type": "code",
   "execution_count": 28,
   "metadata": {},
   "outputs": [
    {
     "name": "stdout",
     "output_type": "stream",
     "text": [
      "['https://deno.land/std/archive/tar.ts', 'https://deno.land/std/fs/ensure_dir.ts', 'https://deno.land/std/io/buffer.ts', 'https://deno.land/x/denoflate/mod.ts', 'https://deno.land/std/streams/conversion.ts', 'https://deno.land/std/path/mod.ts', 'https://deno.land/std/fmt/colors.ts'] [['https://deno.land/x/alephjs1.0.0-alpha.78.1/commands/init.ts'], ['https://deno.land/x/aleph_canary/commands/init.ts']]\n",
      "---------------------------------------------------------------------------------------------------------\n",
      "['https://deno.land/std/encoding/yaml.ts', 'https://deno.land/std/testing/asserts.ts', 'https://deno.land/std/fs/mod.ts', 'https://deno.land/std/flags/mod.ts', 'https://deno.land/std/http/server.ts', 'https://deno.land/std/path/mod.ts', 'https://deno.land/std/async/mod.ts'] [['https://deno.land/x/bobv/deps.ts'], ['https://deno.land/x/attain/deps.ts']]\n",
      "---------------------------------------------------------------------------------------------------------\n",
      "['https://deno.land/x/esbuild_deno_loader/mod.ts', 'https://deno.land/x/media_typesv/mod.ts', 'https://deno.land/std/fs/walk.ts', 'https://crux.land/router', 'https://deno.land/x/esbuildv/mod.js', 'https://deno.land/std/http/server.ts', 'https://deno.land/std/path/mod.ts'] [['https://deno.land/x/fresh/src/server/deps.ts'], ['https://deno.land/x/deno_fresh/src/server/deps.ts']]\n",
      "---------------------------------------------------------------------------------------------------------\n",
      "['https://deno.land/std/mime/multipart.ts', 'https://deno.land/std/http/server.ts', 'https://deno.land/std/encoding/utf8.ts', 'https://deno.land/std/path/mod.ts', 'https://deno.land/std/node/querystring.ts', 'https://deno.land/std/fmt/colors.ts', 'https://deno.land/std/http/http_status.ts'] [['https://deno.land/x/leavesv/deps.ts'], ['https://deno.land/x/minv1.1/deps.ts']]\n",
      "---------------------------------------------------------------------------------------------------------\n",
      "['https://deno.land/x/media_typesv/mod.ts', 'https://deno.land/std/bytes/mod.ts', 'https://deno.land/std/encoding/base64.ts', 'https://deno.land/x/path_to_regexpv/index.ts', 'https://deno.land/std/path/mod.ts', 'https://deno.land/std/io/readers.ts', 'https://deno.land/std/http/http_status.ts'] [['https://deno.land/x/jw_oakv/deps.ts'], ['https://deno.land/x/oakv/deps.ts']]\n",
      "---------------------------------------------------------------------------------------------------------\n",
      "['https://deno.land/std/testing/asserts.ts', 'https://deno.land/std/streams/conversion.ts', 'https://deno.land/std/node/util.ts', 'https://deno.land/std/node/fs.ts', 'https://deno.land/std/node/path.ts', 'https://deno.land/std/fs/copy.ts', 'https://deno.land/std/node/os.ts'] [['https://deno.land/x/puppeteer_ts/src/BrowserFetcher.ts'], ['https://deno.land/x/deno_puppeteer/src/BrowserFetcher.ts'], ['https://deno.land/x/puppeteer_plus/src/BrowserFetcher.ts']]\n",
      "---------------------------------------------------------------------------------------------------------\n",
      "['https://deno.land/x/media_typesv/mod.ts', 'https://x.lcas.dev/preact/ssr.js', 'https://x.lcas.dev/preact/mod.js', 'https://deno.land/x/httpcache/in_memory.ts', 'https://x.lcas.dev/preact/mod.d.ts', 'https://deno.land/std/http/server.ts', 'https://deno.land/std/http/http_status.ts'] [['https://deno.land/x/4zzv/mod.ts'], ['https://deno.land/x/sift/mod.ts']]\n",
      "---------------------------------------------------------------------------------------------------------\n",
      "['https://deno.land/std/testing/asserts.ts', 'https://deno.land/std/uuid/mod.ts', 'https://deno.land/std/fs/mod.ts', 'https://deno.land/std/path/mod.ts', 'https://deno.land/std/fmt/colors.ts', 'https://deno.land/std/async/mod.ts', 'https://deno.land/std/datetime/mod.ts'] [['https://deno.land/x/httpsaurusv/deps/std.ts'], ['https://deno.land/x/turtlev/deps/std.ts']]\n",
      "---------------------------------------------------------------------------------------------------------\n",
      "['https://deno.land/stdv/encoding/utf8.ts', 'https://deno.land/x/sql_builder/util.ts', 'https://deno.land/stdv/async/mod.ts', 'https://deno.land/stdv/testing/asserts.ts', 'https://denopkg.com/chiefbiiko/sha256v/mod.ts', 'https://deno.land/x/checksum/mod.ts', 'https://deno.land/x/bytes_formater/mod.ts'] [['https://deno.land/x/dinja/lib/dexecutor/clients/libs/mysql/deps.ts'], ['https://deno.land/x/dexecutor/clients/libs/mysql/deps.ts']]\n",
      "---------------------------------------------------------------------------------------------------------\n"
     ]
    }
   ],
   "source": [
    "import pandas as pd\n",
    "import ast\n",
    "import collections\n",
    "\n",
    "df = pd.read_csv('kakarot4.csv',encoding = \"latin-1\")\n",
    "comb_li = df['combination'].values.tolist()\n",
    "orig_li = df['original_modules'].values.tolist()\n",
    "\n",
    "for i in range(len(original_list)):\n",
    "    orig_li[i] = ast.literal_eval(orig_li[i])\n",
    "    comb_li[i] = ast.literal_eval(comb_li[i])\n",
    "    \n",
    "new_comb_li = []\n",
    "    \n",
    "for i in range(len(comb_li)):\n",
    "    count = 0\n",
    "    for j in range(len(comb_li[i])):\n",
    "        if 'polkadot' in comb_li[i][j]:\n",
    "            count = 1\n",
    "    if count == 0:\n",
    "        new_comb_li.append([len(comb_li[i]),len(orig_li[i]),comb_li[i],orig_li[i]])\n",
    "\n",
    "\n",
    "\n",
    "#print(new_comb_li)\n",
    "\n",
    "\n",
    "for i in range(2,17):\n",
    "    x = []\n",
    "    for j in range(len(new_comb_li)):\n",
    "        if new_comb_li[j][0] == i:\n",
    "            x.append(new_comb_li[j][1])\n",
    "    #print('組み合わせの大きさ：'+ str(i) + '  合計数：' + str(sum(x)))\n",
    "    \n",
    "    \n",
    "for l in range(len(new_comb_li)):\n",
    "    if new_comb_li[l][0] == 7:\n",
    "        print(new_comb_li[l][2],new_comb_li[l][3])\n",
    "        print('---------------------------------------------------------------------------------------------------------')"
   ]
  },
  {
   "cell_type": "code",
   "execution_count": null,
   "metadata": {},
   "outputs": [],
   "source": []
  }
 ],
 "metadata": {
  "kernelspec": {
   "display_name": "Python 3",
   "language": "python",
   "name": "python3"
  },
  "language_info": {
   "codemirror_mode": {
    "name": "ipython",
    "version": 3
   },
   "file_extension": ".py",
   "mimetype": "text/x-python",
   "name": "python",
   "nbconvert_exporter": "python",
   "pygments_lexer": "ipython3",
   "version": "3.7.3"
  }
 },
 "nbformat": 4,
 "nbformat_minor": 4
}
